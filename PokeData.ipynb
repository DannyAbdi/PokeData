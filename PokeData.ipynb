{
 "cells": [
  {
   "cell_type": "markdown",
   "id": "1e11ad7d-be38-4f84-b2cf-21751b246f05",
   "metadata": {},
   "source": [
    "# PokéData: A Data-Driven Victory"
   ]
  },
  {
   "cell_type": "markdown",
   "id": "df421a3b-3ac9-4893-bb45-82dd161d1ac2",
   "metadata": {},
   "source": [
    "__Context:__ Professor Oak's hypothesis is that Pokémon have been getting stronger with each generation however some of his colleagues seem to disagree. With the Pokémon championship battle coming closer, he wants to use this event to test his theory. He tasks a promising young trainer to fight the undefeated champion Cynthia with a carefully constructed team of 6 pokemon and bring an end to her win streak."
   ]
  },
  {
   "cell_type": "code",
   "execution_count": null,
   "id": "5b01b6df-b560-439d-aa50-9dae15bd9dda",
   "metadata": {},
   "outputs": [],
   "source": []
  }
 ],
 "metadata": {
  "kernelspec": {
   "display_name": "Python 3 (ipykernel)",
   "language": "python",
   "name": "python3"
  },
  "language_info": {
   "codemirror_mode": {
    "name": "ipython",
    "version": 3
   },
   "file_extension": ".py",
   "mimetype": "text/x-python",
   "name": "python",
   "nbconvert_exporter": "python",
   "pygments_lexer": "ipython3",
   "version": "3.10.4"
  }
 },
 "nbformat": 4,
 "nbformat_minor": 5
}
